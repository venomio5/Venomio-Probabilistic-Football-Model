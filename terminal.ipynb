{
 "cells": [
  {
   "cell_type": "code",
   "execution_count": 1,
   "id": "4056d70c",
   "metadata": {},
   "outputs": [],
   "source": [
    "import core\n",
    "import pandas as pd\n",
    "from datetime import datetime\n",
    "import ast"
   ]
  },
  {
   "cell_type": "code",
   "execution_count": 2,
   "id": "fb9207a6",
   "metadata": {},
   "outputs": [],
   "source": [
    "current_date = \"2025-07-23\"\n",
    "datetime_obj = pd.to_datetime(current_date)"
   ]
  },
  {
   "cell_type": "code",
   "execution_count": 3,
   "id": "563cd70f",
   "metadata": {},
   "outputs": [
    {
     "name": "stdout",
     "output_type": "stream",
     "text": [
      "Simulating Ceará vs Mirassol\n"
     ]
    },
    {
     "name": "stderr",
     "output_type": "stream",
     "text": [
      "Simulations (1 worker):   0%|          | 0/1 [00:00<?, ?it/s]\n"
     ]
    },
    {
     "name": "stdout",
     "output_type": "stream",
     "text": [
      "0.10416172227514542 0.1115270837751008\n"
     ]
    },
    {
     "ename": "AttributeError",
     "evalue": "'MonteCarloSim' object has no attribute 'get_time_segment'",
     "output_type": "error",
     "traceback": [
      "\u001b[1;31m---------------------------------------------------------------------------\u001b[0m",
      "\u001b[1;31mAttributeError\u001b[0m                            Traceback (most recent call last)",
      "Cell \u001b[1;32mIn[3], line 1\u001b[0m\n\u001b[1;32m----> 1\u001b[0m \u001b[43mcore\u001b[49m\u001b[38;5;241;43m.\u001b[39;49m\u001b[43mMonteCarloSim\u001b[49m\u001b[43m(\u001b[49m\u001b[43mmatch_id\u001b[49m\u001b[38;5;241;43m=\u001b[39;49m\u001b[38;5;241;43m4640\u001b[39;49m\u001b[43m)\u001b[49m\n",
      "File \u001b[1;32md:\\Kevin\\Projects\\Venomio-Probabilistic-Football-Model\\core.py:2153\u001b[0m, in \u001b[0;36mMonteCarloSim.__init__\u001b[1;34m(self, match_id, home_initial_goals, away_initial_goals, match_initial_time, home_subs_avail, away_subs_avail)\u001b[0m\n\u001b[0;32m   2150\u001b[0m \u001b[38;5;28;01melse\u001b[39;00m:\n\u001b[0;32m   2151\u001b[0m     range_value \u001b[38;5;241m=\u001b[39m \u001b[38;5;241m8000\u001b[39m\n\u001b[1;32m-> 2153\u001b[0m \u001b[38;5;28;43mself\u001b[39;49m\u001b[38;5;241;43m.\u001b[39;49m\u001b[43m_run_simulations\u001b[49m\u001b[43m(\u001b[49m\u001b[43mn_sims\u001b[49m\u001b[38;5;241;43m=\u001b[39;49m\u001b[38;5;241;43m1\u001b[39;49m\u001b[43m,\u001b[49m\u001b[43m \u001b[49m\u001b[43mn_workers\u001b[49m\u001b[38;5;241;43m=\u001b[39;49m\u001b[38;5;241;43m1\u001b[39;49m\u001b[43m,\u001b[49m\u001b[43m \u001b[49m\u001b[43mflush_every\u001b[49m\u001b[38;5;241;43m=\u001b[39;49m\u001b[38;5;241;43m10000\u001b[39;49m\u001b[43m)\u001b[49m\n",
      "File \u001b[1;32md:\\Kevin\\Projects\\Venomio-Probabilistic-Football-Model\\core.py:2332\u001b[0m, in \u001b[0;36mMonteCarloSim._run_simulations\u001b[1;34m(self, n_sims, n_workers, flush_every)\u001b[0m\n\u001b[0;32m   2330\u001b[0m \u001b[38;5;28;01melse\u001b[39;00m:\n\u001b[0;32m   2331\u001b[0m     \u001b[38;5;28;01mfor\u001b[39;00m idx \u001b[38;5;129;01min\u001b[39;00m tqdm(\u001b[38;5;28mrange\u001b[39m(n_sims), desc\u001b[38;5;241m=\u001b[39m\u001b[38;5;124m'\u001b[39m\u001b[38;5;124mSimulations (1 worker)\u001b[39m\u001b[38;5;124m'\u001b[39m):\n\u001b[1;32m-> 2332\u001b[0m         score_rows \u001b[38;5;241m=\u001b[39m \u001b[38;5;28;43mself\u001b[39;49m\u001b[38;5;241;43m.\u001b[39;49m\u001b[43m_simulate_single\u001b[49m\u001b[43m(\u001b[49m\u001b[43midx\u001b[49m\u001b[43m)\u001b[49m\n\u001b[0;32m   2333\u001b[0m         score_buf\u001b[38;5;241m.\u001b[39mextend(score_rows)\n\u001b[0;32m   2334\u001b[0m         \u001b[38;5;28;01mif\u001b[39;00m (idx \u001b[38;5;241m+\u001b[39m \u001b[38;5;241m1\u001b[39m) \u001b[38;5;241m%\u001b[39m flush_every \u001b[38;5;241m==\u001b[39m \u001b[38;5;241m0\u001b[39m:\n",
      "File \u001b[1;32md:\\Kevin\\Projects\\Venomio-Probabilistic-Football-Model\\core.py:2201\u001b[0m, in \u001b[0;36mMonteCarloSim._simulate_single\u001b[1;34m(self, i)\u001b[0m\n\u001b[0;32m   2199\u001b[0m \u001b[38;5;28;01mfor\u001b[39;00m minute \u001b[38;5;129;01min\u001b[39;00m \u001b[38;5;28mrange\u001b[39m(\u001b[38;5;28mself\u001b[39m\u001b[38;5;241m.\u001b[39mmatch_initial_time, \u001b[38;5;241m91\u001b[39m):\n\u001b[0;32m   2200\u001b[0m     home_status, away_status \u001b[38;5;241m=\u001b[39m \u001b[38;5;28mself\u001b[39m\u001b[38;5;241m.\u001b[39m_get_status(home_goals, away_goals)\n\u001b[1;32m-> 2201\u001b[0m     time_segment \u001b[38;5;241m=\u001b[39m \u001b[38;5;28;43mself\u001b[39;49m\u001b[38;5;241;43m.\u001b[39;49m\u001b[43mget_time_segment\u001b[49m(minute)\n\u001b[0;32m   2202\u001b[0m     \u001b[38;5;28;01mif\u001b[39;00m minute \u001b[38;5;129;01min\u001b[39;00m [\u001b[38;5;241m16\u001b[39m, \u001b[38;5;241m31\u001b[39m, \u001b[38;5;241m46\u001b[39m, \u001b[38;5;241m61\u001b[39m, \u001b[38;5;241m76\u001b[39m]:\n\u001b[0;32m   2203\u001b[0m         context_ras_change \u001b[38;5;241m=\u001b[39m \u001b[38;5;28;01mTrue\u001b[39;00m\n",
      "\u001b[1;31mAttributeError\u001b[0m: 'MonteCarloSim' object has no attribute 'get_time_segment'"
     ]
    }
   ],
   "source": [
    "core.MonteCarloSim(match_id=4640)"
   ]
  }
 ],
 "metadata": {
  "kernelspec": {
   "display_name": "Python 3",
   "language": "python",
   "name": "python3"
  },
  "language_info": {
   "codemirror_mode": {
    "name": "ipython",
    "version": 3
   },
   "file_extension": ".py",
   "mimetype": "text/x-python",
   "name": "python",
   "nbconvert_exporter": "python",
   "pygments_lexer": "ipython3",
   "version": "3.10.9"
  }
 },
 "nbformat": 4,
 "nbformat_minor": 5
}
