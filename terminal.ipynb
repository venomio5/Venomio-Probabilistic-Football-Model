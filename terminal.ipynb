{
 "cells": [
  {
   "cell_type": "code",
   "execution_count": 1,
   "id": "4056d70c",
   "metadata": {},
   "outputs": [],
   "source": [
    "import core\n",
    "import pandas as pd\n",
    "from datetime import datetime\n",
    "import ast"
   ]
  },
  {
   "cell_type": "code",
   "execution_count": 2,
   "id": "fb9207a6",
   "metadata": {},
   "outputs": [],
   "source": [
    "current_date = \"2025-07-23\"\n",
    "datetime_obj = pd.to_datetime(current_date)"
   ]
  },
  {
   "cell_type": "code",
   "execution_count": 3,
   "id": "563cd70f",
   "metadata": {},
   "outputs": [
    {
     "name": "stdout",
     "output_type": "stream",
     "text": [
      "Simulating Santos vs Internacional\n"
     ]
    },
    {
     "name": "stderr",
     "output_type": "stream",
     "text": [
      "Simulations (1 worker): 100%|██████████| 1/1 [00:00<?, ?it/s]\n"
     ]
    },
    {
     "name": "stdout",
     "output_type": "stream",
     "text": [
      "{'off_xg_coef': -0.000464926, 'def_xg_coef': 1.95818e-05, 'fouls_committed_rate': 0.0, 'fouls_drawn_rate': 0.0031746031746031746, 'yellow_card_rate': 0.0, 'red_card_rate': 0.0, 'sub_in_count': 0, 'sub_out_count': 0, 'in_status_prob': {'Leading': 0.3333333333333333, 'Level': 0.3333333333333333, 'Trailing': 0.3333333333333333}, 'out_status_prob': {'Leading': 0.3333333333333333, 'Level': 0.3333333333333333, 'Trailing': 0.3333333333333333}, 'initial_fatigue': 0.5032163898648545, 'initial_rhythm': 1, 'bench': False, 'on_field': True, 'yellow_card': False, 'red_card': False, 'in': 0}\n",
      "{'off_xg_coef': 0.00017116, 'def_xg_coef': 7.58166e-05, 'fouls_committed_rate': 0.004032258064516129, 'fouls_drawn_rate': 0.0024193548387096775, 'yellow_card_rate': 0.2, 'red_card_rate': 0.0, 'sub_in_count': 0, 'sub_out_count': 2, 'in_status_prob': {'Leading': 0.3333333333333333, 'Level': 0.3333333333333333, 'Trailing': 0.3333333333333333}, 'out_status_prob': {'Leading': 0.4, 'Level': 0.2, 'Trailing': 0.4}, 'initial_fatigue': 0.5032163885573392, 'initial_rhythm': 1, 'bench': False, 'on_field': True, 'yellow_card': False, 'red_card': False, 'in': 0}\n",
      "{'off_xg_coef': -0.000673561, 'def_xg_coef': -0.000175359, 'fouls_committed_rate': 0.008333333333333333, 'fouls_drawn_rate': 0.004629629629629629, 'yellow_card_rate': 0.4444444444444444, 'red_card_rate': 0.0, 'sub_in_count': 0, 'sub_out_count': 0, 'in_status_prob': {'Leading': 0.3333333333333333, 'Level': 0.3333333333333333, 'Trailing': 0.3333333333333333}, 'out_status_prob': {'Leading': 0.3333333333333333, 'Level': 0.3333333333333333, 'Trailing': 0.3333333333333333}, 'initial_fatigue': 0.5032163484654428, 'initial_rhythm': 1, 'bench': False, 'on_field': True, 'yellow_card': False, 'red_card': False, 'in': 0}\n",
      "{'off_xg_coef': -0.000275039, 'def_xg_coef': -0.000320708, 'fouls_committed_rate': 0.0, 'fouls_drawn_rate': 0.005555555555555556, 'yellow_card_rate': 0.0, 'red_card_rate': 0.0, 'sub_in_count': 0, 'sub_out_count': 0, 'in_status_prob': {'Leading': 0.3333333333333333, 'Level': 0.3333333333333333, 'Trailing': 0.3333333333333333}, 'out_status_prob': {'Leading': 0.3333333333333333, 'Level': 0.3333333333333333, 'Trailing': 0.3333333333333333}, 'initial_fatigue': 0.503214724408055, 'initial_rhythm': 1, 'bench': False, 'on_field': True, 'yellow_card': True, 'red_card': False, 'in': 0}\n",
      "{'off_xg_coef': -0.000132953, 'def_xg_coef': 5.96187e-05, 'fouls_committed_rate': 0.01971830985915493, 'fouls_drawn_rate': 0.005633802816901409, 'yellow_card_rate': 0.21428571428571427, 'red_card_rate': 0.0, 'sub_in_count': 2, 'sub_out_count': 3, 'in_status_prob': {'Leading': 0.4, 'Level': 0.2, 'Trailing': 0.4}, 'out_status_prob': {'Leading': 0.16666666666666666, 'Level': 0.16666666666666666, 'Trailing': 0.6666666666666666}, 'initial_fatigue': 0.36787953161281245, 'initial_rhythm': 0.8198071390202983, 'bench': False, 'on_field': True, 'yellow_card': False, 'red_card': False, 'in': 0}\n",
      "{'off_xg_coef': 0.000225901, 'def_xg_coef': 0.000564394, 'fouls_committed_rate': 0.02406417112299465, 'fouls_drawn_rate': 0.058823529411764705, 'yellow_card_rate': 0.3333333333333333, 'red_card_rate': 0.1111111111111111, 'sub_in_count': 2, 'sub_out_count': 1, 'in_status_prob': {'Leading': 0.4, 'Level': 0.4, 'Trailing': 0.2}, 'out_status_prob': {'Leading': 0.5, 'Level': 0.25, 'Trailing': 0.25}, 'initial_fatigue': 0.5032147669672046, 'initial_rhythm': 1, 'bench': False, 'on_field': True, 'yellow_card': False, 'red_card': False, 'in': 0}\n",
      "{'off_xg_coef': -0.000299345, 'def_xg_coef': -0.000587783, 'fouls_committed_rate': 0.010843373493975903, 'fouls_drawn_rate': 0.010843373493975903, 'yellow_card_rate': 0.0, 'red_card_rate': 0.0, 'sub_in_count': 1, 'sub_out_count': 10, 'in_status_prob': {'Leading': 0.25, 'Level': 0.5, 'Trailing': 0.25}, 'out_status_prob': {'Leading': 0.3076923076923077, 'Level': 0.23076923076923078, 'Trailing': 0.46153846153846156}, 'initial_fatigue': 0.4058135591165348, 'initial_rhythm': 1, 'bench': False, 'on_field': True, 'yellow_card': False, 'red_card': False, 'in': 0}\n",
      "{'off_xg_coef': 5.45971e-06, 'def_xg_coef': 0.000158561, 'fouls_committed_rate': 0.006734006734006734, 'fouls_drawn_rate': 0.021885521885521887, 'yellow_card_rate': 0.0, 'red_card_rate': 0.0, 'sub_in_count': 7, 'sub_out_count': 5, 'in_status_prob': {'Leading': 0.3, 'Level': 0.6, 'Trailing': 0.1}, 'out_status_prob': {'Leading': 0.25, 'Level': 0.375, 'Trailing': 0.375}, 'initial_fatigue': 0.3904354880042156, 'initial_rhythm': 0.9378258380837989, 'bench': False, 'on_field': True, 'yellow_card': False, 'red_card': False, 'in': 0}\n",
      "{'off_xg_coef': 0.000333944, 'def_xg_coef': 0.000345961, 'fouls_committed_rate': 0.0, 'fouls_drawn_rate': 0.05128205128205128, 'yellow_card_rate': 0.0, 'red_card_rate': 0.0, 'sub_in_count': 2, 'sub_out_count': 0, 'in_status_prob': {'Leading': 0.2, 'Level': 0.4, 'Trailing': 0.4}, 'out_status_prob': {'Leading': 0.3333333333333333, 'Level': 0.3333333333333333, 'Trailing': 0.3333333333333333}, 'initial_fatigue': 0.09740264905833709, 'initial_rhythm': 0.3082367065091797, 'bench': False, 'on_field': True, 'yellow_card': False, 'red_card': False, 'in': 0}\n",
      "{'off_xg_coef': 0.000160362, 'def_xg_coef': -0.000163534, 'fouls_committed_rate': 0.0035087719298245615, 'fouls_drawn_rate': 0.0, 'yellow_card_rate': 0.0, 'red_card_rate': 0.0, 'sub_in_count': 4, 'sub_out_count': 0, 'in_status_prob': {'Leading': 0.2857142857142857, 'Level': 0.14285714285714285, 'Trailing': 0.5714285714285714}, 'out_status_prob': {'Leading': 0.3333333333333333, 'Level': 0.3333333333333333, 'Trailing': 0.3333333333333333}, 'initial_fatigue': 0.1353369447550906, 'initial_rhythm': 0.7369057812468996, 'bench': False, 'on_field': True, 'yellow_card': False, 'red_card': False, 'in': 0}\n",
      "{'Alan Benítez_23_I': {'off_xg_coef': 5.37863e-05, 'def_xg_coef': 1.35646e-05, 'fouls_committed_rate': 0.0, 'fouls_drawn_rate': 0.0, 'yellow_card_rate': 0.0, 'red_card_rate': 0.0, 'sub_in_count': 1, 'sub_out_count': 0, 'in_status_prob': {'Leading': 0.25, 'Level': 0.5, 'Trailing': 0.25}, 'out_status_prob': {'Leading': 0.3333333333333333, 'Level': 0.3333333333333333, 'Trailing': 0.3333333333333333}, 'initial_fatigue': 0.5308577380023598, 'initial_rhythm': 1, 'bench': True, 'on_field': False, 'yellow_card': False, 'red_card': False, 'in': 61}, 'Alan Patrick_10_I': {'off_xg_coef': 0.000938888, 'def_xg_coef': 0.000392925, 'fouls_committed_rate': 0.008962264150943396, 'fouls_drawn_rate': 0.014150943396226415, 'yellow_card_rate': 0.15789473684210525, 'red_card_rate': 0.0, 'sub_in_count': 2, 'sub_out_count': 7, 'in_status_prob': {'Leading': 0.4, 'Level': 0.4, 'Trailing': 0.2}, 'out_status_prob': {'Leading': 0.6, 'Level': 0.3, 'Trailing': 0.1}, 'initial_fatigue': 0.5490911541485103, 'initial_rhythm': 1, 'bench': False, 'on_field': True, 'yellow_card': False, 'red_card': False, 'in': 0}, 'Alexandro Bernabei_26_I': {'off_xg_coef': 0.00127942, 'def_xg_coef': -0.000190647, 'fouls_committed_rate': 0.019627749576988155, 'fouls_drawn_rate': 0.009475465313028765, 'yellow_card_rate': 0.10344827586206896, 'red_card_rate': 0.0, 'sub_in_count': 0, 'sub_out_count': 2, 'in_status_prob': {'Leading': 0.3333333333333333, 'Level': 0.3333333333333333, 'Trailing': 0.3333333333333333}, 'out_status_prob': {'Leading': 0.4, 'Level': 0.2, 'Trailing': 0.4}, 'initial_fatigue': 0.5134171234393852, 'initial_rhythm': 0.9012971307143971, 'bench': False, 'on_field': True, 'yellow_card': False, 'red_card': False, 'in': 0}, 'Anthoni_24_I': {'off_xg_coef': -0.000477639, 'def_xg_coef': -0.000291963, 'fouls_committed_rate': 0.0, 'fouls_drawn_rate': 0.0006090133982947625, 'yellow_card_rate': 0.0, 'red_card_rate': 0.0, 'sub_in_count': 1, 'sub_out_count': 0, 'in_status_prob': {'Leading': 0.5, 'Level': 0.25, 'Trailing': 0.25}, 'out_status_prob': {'Leading': 0.3333333333333333, 'Level': 0.3333333333333333, 'Trailing': 0.3333333333333333}, 'initial_fatigue': 0.5490927778205609, 'initial_rhythm': 1, 'bench': True, 'on_field': False, 'yellow_card': False, 'red_card': False, 'in': None}, 'Braian Aguirre_35_I': {'off_xg_coef': 0.000118168, 'def_xg_coef': -0.000327234, 'fouls_committed_rate': 0.004960727573377429, 'fouls_drawn_rate': 0.0008267879288962381, 'yellow_card_rate': 0.16666666666666666, 'red_card_rate': 0.0, 'sub_in_count': 0, 'sub_out_count': 1, 'in_status_prob': {'Leading': 0.3333333333333333, 'Level': 0.3333333333333333, 'Trailing': 0.3333333333333333}, 'out_status_prob': {'Leading': 0.25, 'Level': 0.25, 'Trailing': 0.5}, 'initial_fatigue': 0.5490927778205598, 'initial_rhythm': 1, 'bench': False, 'on_field': True, 'yellow_card': False, 'red_card': False, 'in': 0}, 'Bruno Tabata_17_I': {'off_xg_coef': 0.000496484, 'def_xg_coef': 0.000650281, 'fouls_committed_rate': 0.010101010101010102, 'fouls_drawn_rate': 0.019570707070707072, 'yellow_card_rate': 0.25, 'red_card_rate': 0.0, 'sub_in_count': 9, 'sub_out_count': 16, 'in_status_prob': {'Leading': 0.25, 'Level': 0.5, 'Trailing': 0.25}, 'out_status_prob': {'Leading': 0.3157894736842105, 'Level': 0.3684210526315789, 'Trailing': 0.3157894736842105}, 'initial_fatigue': 0.14444367015413942, 'initial_rhythm': 0.41234958727875454, 'bench': False, 'on_field': True, 'yellow_card': False, 'red_card': False, 'in': 0}, 'Clayton_20_I': {'off_xg_coef': -7.37531e-05, 'def_xg_coef': -0.000543109, 'fouls_committed_rate': 0.0044598612487611496, 'fouls_drawn_rate': 0.0004955401387512388, 'yellow_card_rate': 0.2222222222222222, 'red_card_rate': 0.0, 'sub_in_count': 3, 'sub_out_count': 1, 'in_status_prob': {'Leading': 0.16666666666666666, 'Level': 0.3333333333333333, 'Trailing': 0.5}, 'out_status_prob': {'Leading': 0.25, 'Level': 0.5, 'Trailing': 0.25}, 'initial_fatigue': 0.5316521588478909, 'initial_rhythm': 1, 'bench': True, 'on_field': False, 'yellow_card': False, 'red_card': False, 'in': None}, 'Diego Rosa_33_I': {'off_xg_coef': 0.00021502, 'def_xg_coef': 0.000452936, 'fouls_committed_rate': 0.005555555555555556, 'fouls_drawn_rate': 0.002777777777777778, 'yellow_card_rate': 0.0, 'red_card_rate': 0.0, 'sub_in_count': 5, 'sub_out_count': 1, 'in_status_prob': {'Leading': 0.375, 'Level': 0.25, 'Trailing': 0.375}, 'out_status_prob': {'Leading': 0.25, 'Level': 0.25, 'Trailing': 0.5}, 'initial_fatigue': 0.09272110556406743, 'initial_rhythm': 0.6701759262230241, 'bench': False, 'on_field': True, 'yellow_card': False, 'red_card': False, 'in': 0}, 'Enner Valencia_13_I': {'off_xg_coef': 0.000185923, 'def_xg_coef': 0.000504569, 'fouls_committed_rate': 0.019316493313521546, 'fouls_drawn_rate': 0.018573551263001486, 'yellow_card_rate': 0.07692307692307693, 'red_card_rate': 0.0, 'sub_in_count': 17, 'sub_out_count': 11, 'in_status_prob': {'Leading': 0.5, 'Level': 0.35, 'Trailing': 0.15}, 'out_status_prob': {'Leading': 0.2857142857142857, 'Level': 0.35714285714285715, 'Trailing': 0.35714285714285715}, 'initial_fatigue': 0.08565558184677345, 'initial_rhythm': 0.3025271235596241, 'bench': False, 'on_field': True, 'yellow_card': True, 'red_card': False, 'in': 0}, 'Gabriel Mercado_25_I': {'off_xg_coef': 0.000957015, 'def_xg_coef': 0.000581138, 'fouls_committed_rate': 0.0035460992907801418, 'fouls_drawn_rate': 0.002364066193853428, 'yellow_card_rate': 0.6666666666666666, 'red_card_rate': 0.0, 'sub_in_count': 0, 'sub_out_count': 1, 'in_status_prob': {'Leading': 0.3333333333333333, 'Level': 0.3333333333333333, 'Trailing': 0.3333333333333333}, 'out_status_prob': {'Leading': 0.25, 'Level': 0.25, 'Trailing': 0.5}, 'initial_fatigue': 0.5490911123798443, 'initial_rhythm': 1, 'bench': True, 'on_field': False, 'yellow_card': False, 'red_card': False, 'in': 61}, 'Gustavo Prado_47_I': {'off_xg_coef': 0.00117078, 'def_xg_coef': 4.94546e-06, 'fouls_committed_rate': 0.0041841004184100415, 'fouls_drawn_rate': 0.00906555090655509, 'yellow_card_rate': 0.16666666666666666, 'red_card_rate': 0.0, 'sub_in_count': 22, 'sub_out_count': 4, 'in_status_prob': {'Leading': 0.44, 'Level': 0.2, 'Trailing': 0.36}, 'out_status_prob': {'Leading': 0.2857142857142857, 'Level': 0.42857142857142855, 'Trailing': 0.2857142857142857}, 'initial_fatigue': 0.0728160100367874, 'initial_rhythm': 0.21697279885161144, 'bench': True, 'on_field': False, 'yellow_card': False, 'red_card': False, 'in': 46}, 'Juninho_18_I': {'off_xg_coef': 0.000124479, 'def_xg_coef': -7.94571e-06, 'fouls_committed_rate': 0.0011111111111111111, 'fouls_drawn_rate': 0.0033333333333333335, 'yellow_card_rate': 1.0, 'red_card_rate': 0.0, 'sub_in_count': 0, 'sub_out_count': 0, 'in_status_prob': {'Leading': 0.3333333333333333, 'Level': 0.3333333333333333, 'Trailing': 0.3333333333333333}, 'out_status_prob': {'Leading': 0.3333333333333333, 'Level': 0.3333333333333333, 'Trailing': 0.3333333333333333}, 'initial_fatigue': 0.5134187844732957, 'initial_rhythm': 0.9886198677627244, 'bench': True, 'on_field': False, 'yellow_card': False, 'red_card': False, 'in': None}, 'Luis Otávio_39_I': {'off_xg_coef': -0.00100826, 'def_xg_coef': 0.000231448, 'fouls_committed_rate': 0.004816955684007707, 'fouls_drawn_rate': 0.0038535645472061657, 'yellow_card_rate': 0.0, 'red_card_rate': 0.0, 'sub_in_count': 11, 'sub_out_count': 0, 'in_status_prob': {'Leading': 0.35714285714285715, 'Level': 0.42857142857142855, 'Trailing': 0.21428571428571427}, 'out_status_prob': {'Leading': 0.3333333333333333, 'Level': 0.3333333333333333, 'Trailing': 0.3333333333333333}, 'initial_fatigue': 0.1725868873608829, 'initial_rhythm': 0.8130605579350572, 'bench': False, 'on_field': True, 'yellow_card': False, 'red_card': False, 'in': 0}, 'Ramon_2_I': {'off_xg_coef': -0.00064661, 'def_xg_coef': 0.00053197, 'fouls_committed_rate': 0.004389815627743635, 'fouls_drawn_rate': 0.0026338893766461808, 'yellow_card_rate': 0.2, 'red_card_rate': 0.0, 'sub_in_count': 1, 'sub_out_count': 1, 'in_status_prob': {'Leading': 0.25, 'Level': 0.25, 'Trailing': 0.5}, 'out_status_prob': {'Leading': 0.25, 'Level': 0.25, 'Trailing': 0.5}, 'initial_fatigue': 0.549092057999742, 'initial_rhythm': 1, 'bench': True, 'on_field': False, 'yellow_card': False, 'red_card': False, 'in': 79}, 'Raykkonen_48_I': {'off_xg_coef': 9.4096e-05, 'def_xg_coef': 0.000102267, 'fouls_committed_rate': 0.0, 'fouls_drawn_rate': 0.0, 'yellow_card_rate': 0.0, 'red_card_rate': 0.0, 'sub_in_count': 1, 'sub_out_count': 0, 'in_status_prob': {'Leading': 0.25, 'Level': 0.5, 'Trailing': 0.25}, 'out_status_prob': {'Leading': 0.3333333333333333, 'Level': 0.3333333333333333, 'Trailing': 0.3333333333333333}, 'initial_fatigue': 0.5134171200543081, 'initial_rhythm': 0.8798985305892478, 'bench': True, 'on_field': False, 'yellow_card': False, 'red_card': False, 'in': 46}, 'Sergio Rochet_1_I': {'off_xg_coef': 0.00156328, 'def_xg_coef': 0.000872186, 'fouls_committed_rate': 0.0, 'fouls_drawn_rate': 0.001890359168241966, 'yellow_card_rate': 0.0, 'red_card_rate': 0.0, 'sub_in_count': 0, 'sub_out_count': 1, 'in_status_prob': {'Leading': 0.3333333333333333, 'Level': 0.3333333333333333, 'Trailing': 0.3333333333333333}, 'out_status_prob': {'Leading': 0.5, 'Level': 0.25, 'Trailing': 0.25}, 'initial_fatigue': 0.5490911123798444, 'initial_rhythm': 1, 'bench': False, 'on_field': True, 'yellow_card': False, 'red_card': False, 'in': 0}, 'Victor Gabriel_41_I': {'off_xg_coef': -0.000525836, 'def_xg_coef': -0.000444387, 'fouls_committed_rate': 0.007407407407407408, 'fouls_drawn_rate': 0.0012345679012345679, 'yellow_card_rate': 0.0, 'red_card_rate': 0.0, 'sub_in_count': 0, 'sub_out_count': 0, 'in_status_prob': {'Leading': 0.3333333333333333, 'Level': 0.3333333333333333, 'Trailing': 0.3333333333333333}, 'out_status_prob': {'Leading': 0.3333333333333333, 'Level': 0.3333333333333333, 'Trailing': 0.3333333333333333}, 'initial_fatigue': 0.5490911124204978, 'initial_rhythm': 1, 'bench': False, 'on_field': True, 'yellow_card': False, 'red_card': False, 'in': 0}, 'Vitão_4_I': {'off_xg_coef': -0.000182273, 'def_xg_coef': 0.000577922, 'fouls_committed_rate': 0.0062339567290062336, 'fouls_drawn_rate': 0.0014668133480014668, 'yellow_card_rate': 0.23529411764705882, 'red_card_rate': 0.0, 'sub_in_count': 2, 'sub_out_count': 2, 'in_status_prob': {'Leading': 0.4, 'Level': 0.4, 'Trailing': 0.2}, 'out_status_prob': {'Leading': 0.4, 'Level': 0.2, 'Trailing': 0.4}, 'initial_fatigue': 0.5490927737682304, 'initial_rhythm': 1, 'bench': False, 'on_field': True, 'yellow_card': True, 'red_card': False, 'in': 0}, 'Wesley_21_I': {'off_xg_coef': 0.000607205, 'def_xg_coef': 0.000310337, 'fouls_committed_rate': 0.01893634165995165, 'fouls_drawn_rate': 0.031426269137792104, 'yellow_card_rate': 0.1702127659574468, 'red_card_rate': 0.0, 'sub_in_count': 0, 'sub_out_count': 22, 'in_status_prob': {'Leading': 0.3333333333333333, 'Level': 0.3333333333333333, 'Trailing': 0.3333333333333333}, 'out_status_prob': {'Leading': 0.32, 'Level': 0.4, 'Trailing': 0.28}, 'initial_fatigue': 0.47627700312289484, 'initial_rhythm': 1, 'bench': False, 'on_field': True, 'yellow_card': False, 'red_card': False, 'in': 0}}\n"
     ]
    },
    {
     "data": {
      "text/plain": [
       "<core.MonteCarloSim at 0x1550802aa40>"
      ]
     },
     "execution_count": 3,
     "metadata": {},
     "output_type": "execute_result"
    }
   ],
   "source": [
    "core.MonteCarloSim(match_id=4643)"
   ]
  }
 ],
 "metadata": {
  "kernelspec": {
   "display_name": "Python 3",
   "language": "python",
   "name": "python3"
  },
  "language_info": {
   "codemirror_mode": {
    "name": "ipython",
    "version": 3
   },
   "file_extension": ".py",
   "mimetype": "text/x-python",
   "name": "python",
   "nbconvert_exporter": "python",
   "pygments_lexer": "ipython3",
   "version": "3.10.9"
  }
 },
 "nbformat": 4,
 "nbformat_minor": 5
}
