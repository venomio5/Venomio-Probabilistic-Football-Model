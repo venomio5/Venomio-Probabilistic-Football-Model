{
 "cells": [
  {
   "cell_type": "code",
   "execution_count": 1,
   "id": "4056d70c",
   "metadata": {},
   "outputs": [],
   "source": [
    "import core\n",
    "import pandas as pd\n",
    "from datetime import datetime\n",
    "import ast"
   ]
  },
  {
   "cell_type": "code",
   "execution_count": 2,
   "id": "fb9207a6",
   "metadata": {},
   "outputs": [],
   "source": [
    "current_date = \"2025-07-23\"\n",
    "datetime_obj = pd.to_datetime(current_date)"
   ]
  },
  {
   "cell_type": "code",
   "execution_count": 3,
   "id": "563cd70f",
   "metadata": {},
   "outputs": [],
   "source": [
    "#core.MonteCarloSim(match_id=4772)"
   ]
  },
  {
   "cell_type": "code",
   "execution_count": null,
   "id": "d0f9bd89",
   "metadata": {},
   "outputs": [
    {
     "name": "stderr",
     "output_type": "stream",
     "text": [
      "Processing fixtures rows: 100%|██████████| 387/387 [00:14<00:00, 27.37it/s]\n"
     ]
    },
    {
     "name": "stdout",
     "output_type": "stream",
     "text": [
      "No coordinates found for 'Atlético: Estadio Alfonso Lastras Ramírez\n",
      "\n",
      "=== Ubicación encontrada para Atlético ===\n",
      "📍 Estadio Alfonso Lastras, Avenida Coral, Fraccionamiento Esmeralda, San Luis Potosí, Municipio de San Luis Potosí, San Luis Potosí, 78399, México\n",
      "Atlético 22.1386155,-100.9508979\n",
      "\n",
      "=== Ubicación encontrada para Mazatlán ===\n",
      "📍 Estadio Rigoberto López Pérez, Carretera Managua - León, Reparto Universitaria, El Encanto, León, 21000, Nicaragua\n"
     ]
    }
   ],
   "source": [
    "core.FillTeamsData(3)"
   ]
  }
 ],
 "metadata": {
  "kernelspec": {
   "display_name": "Python 3",
   "language": "python",
   "name": "python3"
  },
  "language_info": {
   "codemirror_mode": {
    "name": "ipython",
    "version": 3
   },
   "file_extension": ".py",
   "mimetype": "text/x-python",
   "name": "python",
   "nbconvert_exporter": "python",
   "pygments_lexer": "ipython3",
   "version": "3.10.9"
  }
 },
 "nbformat": 4,
 "nbformat_minor": 5
}
