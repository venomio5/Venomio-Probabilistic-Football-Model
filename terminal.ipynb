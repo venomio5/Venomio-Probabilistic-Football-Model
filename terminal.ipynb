{
 "cells": [
  {
   "cell_type": "code",
   "execution_count": 1,
   "id": "4056d70c",
   "metadata": {},
   "outputs": [],
   "source": [
    "import core\n",
    "import pandas as pd\n",
    "from datetime import datetime\n",
    "import ast"
   ]
  },
  {
   "cell_type": "code",
   "execution_count": 2,
   "id": "fb9207a6",
   "metadata": {},
   "outputs": [],
   "source": [
    "current_date = \"2025-07-23\"\n",
    "datetime_obj = pd.to_datetime(current_date)"
   ]
  },
  {
   "cell_type": "code",
   "execution_count": 3,
   "id": "563cd70f",
   "metadata": {},
   "outputs": [
    {
     "name": "stdout",
     "output_type": "stream",
     "text": [
      "Simulating Ceará vs Mirassol\n"
     ]
    },
    {
     "name": "stderr",
     "output_type": "stream",
     "text": [
      "Simulations (1 worker):   0%|          | 0/1 [00:00<?, ?it/s]\n"
     ]
    },
    {
     "name": "stdout",
     "output_type": "stream",
     "text": [
      "{'off_xg_coef': 0.000200219, 'def_xg_coef': -0.000225236, 'fouls_committed_rate': 0.001440922190201729, 'fouls_drawn_rate': 0.0, 'yellow_card_rate': 1.0, 'red_card_rate': 0.0, 'sub_in_count': 0, 'sub_out_count': 1, 'in_status_prob': {'Leading': 0.3333333333333333, 'Level': 0.3333333333333333, 'Trailing': 0.3333333333333333}, 'out_status_prob': {'Leading': 0.5, 'Level': 0.25, 'Trailing': 0.25}, 'initial_fatigue': 0.6985396245716279, 'initial_rhythm': 1, 'bench': False, 'on_field': True, 'yellow_card': True, 'red_card': False, 'in': 0}\n",
      "{'off_xg_coef': -0.00022829, 'def_xg_coef': -0.000124191, 'fouls_committed_rate': 0.008547008547008548, 'fouls_drawn_rate': 0.005982905982905983, 'yellow_card_rate': 0.1, 'red_card_rate': 0.0, 'sub_in_count': 0, 'sub_out_count': 0, 'in_status_prob': {'Leading': 0.3333333333333333, 'Level': 0.3333333333333333, 'Trailing': 0.3333333333333333}, 'out_status_prob': {'Leading': 0.3333333333333333, 'Level': 0.3333333333333333, 'Trailing': 0.3333333333333333}, 'initial_fatigue': 0.6985396249061883, 'initial_rhythm': 1, 'bench': False, 'on_field': True, 'yellow_card': False, 'red_card': False, 'in': 0}\n",
      "{'off_xg_coef': -0.000148912, 'def_xg_coef': -0.000129834, 'fouls_committed_rate': 0.004347826086956522, 'fouls_drawn_rate': 0.00608695652173913, 'yellow_card_rate': 0.4, 'red_card_rate': 0.0, 'sub_in_count': 0, 'sub_out_count': 1, 'in_status_prob': {'Leading': 0.3333333333333333, 'Level': 0.3333333333333333, 'Trailing': 0.3333333333333333}, 'out_status_prob': {'Leading': 0.25, 'Level': 0.25, 'Trailing': 0.5}, 'initial_fatigue': 0.6985396249061877, 'initial_rhythm': 1, 'bench': False, 'on_field': True, 'yellow_card': False, 'red_card': False, 'in': 0}\n",
      "{'off_xg_coef': -0.00013289, 'def_xg_coef': 0.000214081, 'fouls_committed_rate': 0.004739336492890996, 'fouls_drawn_rate': 0.00315955766192733, 'yellow_card_rate': 0.0, 'red_card_rate': 0.0, 'sub_in_count': 3, 'sub_out_count': 0, 'in_status_prob': {'Leading': 0.3333333333333333, 'Level': 0.5, 'Trailing': 0.16666666666666666}, 'out_status_prob': {'Leading': 0.3333333333333333, 'Level': 0.3333333333333333, 'Trailing': 0.3333333333333333}, 'initial_fatigue': 0.6985396249031944, 'initial_rhythm': 1, 'bench': False, 'on_field': True, 'yellow_card': False, 'red_card': False, 'in': 0}\n",
      "{'off_xg_coef': -0.000451795, 'def_xg_coef': 0.000140502, 'fouls_committed_rate': 0.028192371475953566, 'fouls_drawn_rate': 0.01658374792703151, 'yellow_card_rate': 0.17647058823529413, 'red_card_rate': 0.0, 'sub_in_count': 1, 'sub_out_count': 8, 'in_status_prob': {'Leading': 0.25, 'Level': 0.5, 'Trailing': 0.25}, 'out_status_prob': {'Leading': 0.36363636363636365, 'Level': 0.36363636363636365, 'Trailing': 0.2727272727272727}, 'initial_fatigue': 0.4939878029140186, 'initial_rhythm': 1, 'bench': False, 'on_field': True, 'yellow_card': False, 'red_card': False, 'in': 0}\n",
      "{'off_xg_coef': -1.16842e-05, 'def_xg_coef': -0.000476707, 'fouls_committed_rate': 0.01990049751243781, 'fouls_drawn_rate': 0.012935323383084577, 'yellow_card_rate': 0.1, 'red_card_rate': 0.0, 'sub_in_count': 0, 'sub_out_count': 6, 'in_status_prob': {'Leading': 0.3333333333333333, 'Level': 0.3333333333333333, 'Trailing': 0.3333333333333333}, 'out_status_prob': {'Leading': 0.4444444444444444, 'Level': 0.4444444444444444, 'Trailing': 0.1111111111111111}, 'initial_fatigue': 0.5632043341712354, 'initial_rhythm': 1, 'bench': False, 'on_field': True, 'yellow_card': False, 'red_card': False, 'in': 0}\n",
      "{'off_xg_coef': -0.000428509, 'def_xg_coef': 0.000101045, 'fouls_committed_rate': 0.0, 'fouls_drawn_rate': 0.004921259842519685, 'yellow_card_rate': 0.0, 'red_card_rate': 0.0, 'sub_in_count': 1, 'sub_out_count': 0, 'in_status_prob': {'Leading': 0.5, 'Level': 0.25, 'Trailing': 0.25}, 'out_status_prob': {'Leading': 0.3333333333333333, 'Level': 0.3333333333333333, 'Trailing': 0.3333333333333333}, 'initial_fatigue': 0.5632043416695709, 'initial_rhythm': 1, 'bench': False, 'on_field': True, 'yellow_card': False, 'red_card': False, 'in': 0}\n",
      "{'off_xg_coef': 0.000126838, 'def_xg_coef': -5.55812e-05, 'fouls_committed_rate': 0.004016064257028112, 'fouls_drawn_rate': 0.0, 'yellow_card_rate': 0.0, 'red_card_rate': 0.0, 'sub_in_count': 6, 'sub_out_count': 0, 'in_status_prob': {'Leading': 0.3333333333333333, 'Level': 0.3333333333333333, 'Trailing': 0.3333333333333333}, 'out_status_prob': {'Leading': 0.3333333333333333, 'Level': 0.3333333333333333, 'Trailing': 0.3333333333333333}, 'initial_fatigue': 0.09209967728214716, 'initial_rhythm': 0.3385260481322724, 'bench': False, 'on_field': True, 'yellow_card': False, 'red_card': False, 'in': 0}\n",
      "{'off_xg_coef': -0.000195292, 'def_xg_coef': -0.000777015, 'fouls_committed_rate': 0.0032414910858995136, 'fouls_drawn_rate': 0.004862236628849271, 'yellow_card_rate': 0.0, 'red_card_rate': 0.0, 'sub_in_count': 7, 'sub_out_count': 2, 'in_status_prob': {'Leading': 0.3, 'Level': 0.5, 'Trailing': 0.2}, 'out_status_prob': {'Leading': 0.2, 'Level': 0.2, 'Trailing': 0.6}, 'initial_fatigue': 0.4527395413901453, 'initial_rhythm': 1, 'bench': False, 'on_field': True, 'yellow_card': False, 'red_card': False, 'in': 0}\n",
      "{'off_xg_coef': -7.38768e-05, 'def_xg_coef': -0.00113106, 'fouls_committed_rate': 0.019880715705765408, 'fouls_drawn_rate': 0.005964214711729622, 'yellow_card_rate': 0.0, 'red_card_rate': 0.0, 'sub_in_count': 9, 'sub_out_count': 2, 'in_status_prob': {'Leading': 0.25, 'Level': 0.5, 'Trailing': 0.25}, 'out_status_prob': {'Leading': 0.4, 'Level': 0.2, 'Trailing': 0.4}, 'initial_fatigue': 0.23111818028523778, 'initial_rhythm': 0.6511557798317145, 'bench': False, 'on_field': True, 'yellow_card': False, 'red_card': False, 'in': 0}\n",
      "{'off_xg_coef': 0.000153519, 'def_xg_coef': -0.000197141, 'fouls_committed_rate': 0.017130620985010708, 'fouls_drawn_rate': 0.019271948608137045, 'yellow_card_rate': 0.0, 'red_card_rate': 0.0, 'sub_in_count': 3, 'sub_out_count': 4, 'in_status_prob': {'Leading': 0.16666666666666666, 'Level': 0.3333333333333333, 'Trailing': 0.5}, 'out_status_prob': {'Leading': 0.2857142857142857, 'Level': 0.42857142857142855, 'Trailing': 0.2857142857142857}, 'initial_fatigue': 0.28054980876770164, 'initial_rhythm': 1, 'bench': False, 'on_field': True, 'yellow_card': True, 'red_card': False, 'in': 0}\n",
      "{'off_xg_coef': 0.000158669, 'def_xg_coef': 0.00058446, 'fouls_committed_rate': 0.02, 'fouls_drawn_rate': 0.02, 'yellow_card_rate': 0.3333333333333333, 'red_card_rate': 0.0, 'sub_in_count': 2, 'sub_out_count': 2, 'in_status_prob': {'Leading': 0.4, 'Level': 0.4, 'Trailing': 0.2}, 'out_status_prob': {'Leading': 0.2, 'Level': 0.6, 'Trailing': 0.2}, 'initial_fatigue': 0.11743094811839899, 'initial_rhythm': 0.6354884667640425, 'bench': False, 'on_field': True, 'yellow_card': False, 'red_card': False, 'in': 0}\n",
      "{'Bruno Ferreira_94_C': 0.03607496095783447, 'Marllon Borges_3_C': 0.024049973971889644, 'Willian Machado_23_C': 0.03607496095783447, 'Nicolas_30_C': 0.024049973971889644, 'Pedro Henrique_7_C': 0.23612701717855286, 'Pedro Raul_9_C': 0.2244664237376367, 'Fernando Miguel_16_C': 0.024049973971889644, 'Bruno Tubarão_29_C': 0.024049973971889644, 'Matheus Araújo_8_C': 0.043289953149401365, 'Lourenço_97_C': 0.043289953149401365, 'Aylon_11_C': 0.1546069755335763, 'Fernandinho_77_C': 0.1298698594482041}\n",
      "['Pedro Henrique_7_C' 'Pedro Raul_9_C']\n",
      "{'Fabiano Souza_70_C': 0.05774278215223096, 'Eder_33_C': 0.05774278215223096, 'Lucas Lima_31_C': 0.23097112860892385, 'Romulo_19_C': 0.5669291338582677, 'João Victor_17_C': 0.08661417322834646}\n",
      "['Romulo_19_C' 'João Victor_17_C']\n"
     ]
    },
    {
     "ename": "UnboundLocalError",
     "evalue": "local variable 'passive_players' referenced before assignment",
     "output_type": "error",
     "traceback": [
      "\u001b[1;31m---------------------------------------------------------------------------\u001b[0m",
      "\u001b[1;31mUnboundLocalError\u001b[0m                         Traceback (most recent call last)",
      "Cell \u001b[1;32mIn[3], line 1\u001b[0m\n\u001b[1;32m----> 1\u001b[0m \u001b[43mcore\u001b[49m\u001b[38;5;241;43m.\u001b[39;49m\u001b[43mMonteCarloSim\u001b[49m\u001b[43m(\u001b[49m\u001b[43mmatch_id\u001b[49m\u001b[38;5;241;43m=\u001b[39;49m\u001b[38;5;241;43m4640\u001b[39;49m\u001b[43m)\u001b[49m\n",
      "File \u001b[1;32md:\\Kevin\\Projects\\Venomio-Probabilistic-Football-Model\\core.py:2153\u001b[0m, in \u001b[0;36mMonteCarloSim.__init__\u001b[1;34m(self, match_id, home_initial_goals, away_initial_goals, match_initial_time, home_subs_avail, away_subs_avail)\u001b[0m\n\u001b[0;32m   2150\u001b[0m \u001b[38;5;28;01melse\u001b[39;00m:\n\u001b[0;32m   2151\u001b[0m     range_value \u001b[38;5;241m=\u001b[39m \u001b[38;5;241m8000\u001b[39m\n\u001b[1;32m-> 2153\u001b[0m \u001b[38;5;28;43mself\u001b[39;49m\u001b[38;5;241;43m.\u001b[39;49m\u001b[43m_run_simulations\u001b[49m\u001b[43m(\u001b[49m\u001b[43mn_sims\u001b[49m\u001b[38;5;241;43m=\u001b[39;49m\u001b[38;5;241;43m1\u001b[39;49m\u001b[43m,\u001b[49m\u001b[43m \u001b[49m\u001b[43mn_workers\u001b[49m\u001b[38;5;241;43m=\u001b[39;49m\u001b[38;5;241;43m1\u001b[39;49m\u001b[43m,\u001b[49m\u001b[43m \u001b[49m\u001b[43mflush_every\u001b[49m\u001b[38;5;241;43m=\u001b[39;49m\u001b[38;5;241;43m10000\u001b[39;49m\u001b[43m)\u001b[49m\n",
      "File \u001b[1;32md:\\Kevin\\Projects\\Venomio-Probabilistic-Football-Model\\core.py:2334\u001b[0m, in \u001b[0;36mMonteCarloSim._run_simulations\u001b[1;34m(self, n_sims, n_workers, flush_every)\u001b[0m\n\u001b[0;32m   2332\u001b[0m \u001b[38;5;28;01melse\u001b[39;00m:\n\u001b[0;32m   2333\u001b[0m     \u001b[38;5;28;01mfor\u001b[39;00m idx \u001b[38;5;129;01min\u001b[39;00m tqdm(\u001b[38;5;28mrange\u001b[39m(n_sims), desc\u001b[38;5;241m=\u001b[39m\u001b[38;5;124m'\u001b[39m\u001b[38;5;124mSimulations (1 worker)\u001b[39m\u001b[38;5;124m'\u001b[39m):\n\u001b[1;32m-> 2334\u001b[0m         score_rows \u001b[38;5;241m=\u001b[39m \u001b[38;5;28;43mself\u001b[39;49m\u001b[38;5;241;43m.\u001b[39;49m\u001b[43m_simulate_single\u001b[49m\u001b[43m(\u001b[49m\u001b[43midx\u001b[49m\u001b[43m)\u001b[49m\n\u001b[0;32m   2335\u001b[0m         score_buf\u001b[38;5;241m.\u001b[39mextend(score_rows)\n\u001b[0;32m   2336\u001b[0m         \u001b[38;5;28;01mif\u001b[39;00m (idx \u001b[38;5;241m+\u001b[39m \u001b[38;5;241m1\u001b[39m) \u001b[38;5;241m%\u001b[39m flush_every \u001b[38;5;241m==\u001b[39m \u001b[38;5;241m0\u001b[39m:\n",
      "File \u001b[1;32md:\\Kevin\\Projects\\Venomio-Probabilistic-Football-Model\\core.py:2205\u001b[0m, in \u001b[0;36mMonteCarloSim._simulate_single\u001b[1;34m(self, i)\u001b[0m\n\u001b[0;32m   2203\u001b[0m \u001b[38;5;28;01mif\u001b[39;00m minute \u001b[38;5;129;01min\u001b[39;00m [\u001b[38;5;241m0\u001b[39m, \u001b[38;5;241m16\u001b[39m, \u001b[38;5;241m31\u001b[39m, \u001b[38;5;241m46\u001b[39m, \u001b[38;5;241m61\u001b[39m, \u001b[38;5;241m76\u001b[39m]: \u001b[38;5;66;03m# TAKE OUT THE 0\u001b[39;00m\n\u001b[0;32m   2204\u001b[0m     raxg_change \u001b[38;5;241m=\u001b[39m \u001b[38;5;28;01mTrue\u001b[39;00m\n\u001b[1;32m-> 2205\u001b[0m     \u001b[38;5;28;43mself\u001b[39;49m\u001b[38;5;241;43m.\u001b[39;49m\u001b[43m_swap_players\u001b[49m\u001b[43m(\u001b[49m\u001b[43mhome_active_players\u001b[49m\u001b[43m,\u001b[49m\u001b[43m \u001b[49m\u001b[43mhome_inactive_players\u001b[49m\u001b[43m,\u001b[49m\u001b[43m \u001b[49m\u001b[43msim_home_players_data\u001b[49m\u001b[43m,\u001b[49m\u001b[43m \u001b[49m\u001b[38;5;28;43mself\u001b[39;49m\u001b[38;5;241;43m.\u001b[39;49m\u001b[43mhome_sub_minutes\u001b[49m\u001b[43m[\u001b[49m\u001b[38;5;241;43m80\u001b[39;49m\u001b[43m]\u001b[49m\u001b[43m,\u001b[49m\u001b[43m \u001b[49m\u001b[43mhome_status\u001b[49m\u001b[43m)\u001b[49m\n\u001b[0;32m   2207\u001b[0m \u001b[38;5;28;01mif\u001b[39;00m minute \u001b[38;5;129;01min\u001b[39;00m \u001b[38;5;28mself\u001b[39m\u001b[38;5;241m.\u001b[39mall_sub_minutes:\n\u001b[0;32m   2208\u001b[0m     raxg_change \u001b[38;5;241m=\u001b[39m \u001b[38;5;28;01mTrue\u001b[39;00m\n",
      "File \u001b[1;32md:\\Kevin\\Projects\\Venomio-Probabilistic-Football-Model\\core.py:2711\u001b[0m, in \u001b[0;36mMonteCarloSim._swap_players\u001b[1;34m(self, active_players, inactive_players, players_data, subs, status)\u001b[0m\n\u001b[0;32m   2709\u001b[0m active_players \u001b[38;5;241m=\u001b[39m [player \u001b[38;5;28;01mfor\u001b[39;00m player \u001b[38;5;129;01min\u001b[39;00m active_players \u001b[38;5;28;01mif\u001b[39;00m player \u001b[38;5;129;01mnot\u001b[39;00m \u001b[38;5;129;01min\u001b[39;00m picked_out_players]\n\u001b[0;32m   2710\u001b[0m active_players\u001b[38;5;241m.\u001b[39mextend(picked_in_players)\n\u001b[1;32m-> 2711\u001b[0m passive_players \u001b[38;5;241m=\u001b[39m [player \u001b[38;5;28;01mfor\u001b[39;00m player \u001b[38;5;129;01min\u001b[39;00m \u001b[43mpassive_players\u001b[49m \u001b[38;5;28;01mif\u001b[39;00m player \u001b[38;5;129;01mnot\u001b[39;00m \u001b[38;5;129;01min\u001b[39;00m picked_in_players]\n\u001b[0;32m   2713\u001b[0m \u001b[38;5;28;01mreturn\u001b[39;00m active_players, passive_players\n",
      "\u001b[1;31mUnboundLocalError\u001b[0m: local variable 'passive_players' referenced before assignment"
     ]
    }
   ],
   "source": [
    "core.MonteCarloSim(match_id=4640)"
   ]
  }
 ],
 "metadata": {
  "kernelspec": {
   "display_name": "Python 3",
   "language": "python",
   "name": "python3"
  },
  "language_info": {
   "codemirror_mode": {
    "name": "ipython",
    "version": 3
   },
   "file_extension": ".py",
   "mimetype": "text/x-python",
   "name": "python",
   "nbconvert_exporter": "python",
   "pygments_lexer": "ipython3",
   "version": "3.10.9"
  }
 },
 "nbformat": 4,
 "nbformat_minor": 5
}
