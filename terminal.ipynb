{
 "cells": [
  {
   "cell_type": "code",
   "execution_count": 1,
   "id": "4056d70c",
   "metadata": {},
   "outputs": [],
   "source": [
    "import core\n",
    "import pandas as pd\n",
    "from datetime import datetime\n",
    "import ast"
   ]
  },
  {
   "cell_type": "code",
   "execution_count": 2,
   "id": "fb9207a6",
   "metadata": {},
   "outputs": [],
   "source": [
    "current_date = \"2025-07-23\"\n",
    "datetime_obj = pd.to_datetime(current_date)"
   ]
  },
  {
   "cell_type": "code",
   "execution_count": 3,
   "id": "563cd70f",
   "metadata": {},
   "outputs": [
    {
     "name": "stdout",
     "output_type": "stream",
     "text": [
      "Simulating Ceará vs Mirassol\n",
      "{'foul_rate': 25.9, 'yc_rate': 4.8, 'rc_rate': 0.2}\n"
     ]
    },
    {
     "ename": "AttributeError",
     "evalue": "'MonteCarloSim' object has no attribute 'ref_stats'",
     "output_type": "error",
     "traceback": [
      "\u001b[1;31m---------------------------------------------------------------------------\u001b[0m",
      "\u001b[1;31mAttributeError\u001b[0m                            Traceback (most recent call last)",
      "Cell \u001b[1;32mIn[3], line 1\u001b[0m\n\u001b[1;32m----> 1\u001b[0m \u001b[43mcore\u001b[49m\u001b[38;5;241;43m.\u001b[39;49m\u001b[43mMonteCarloSim\u001b[49m\u001b[43m(\u001b[49m\u001b[43mmatch_id\u001b[49m\u001b[38;5;241;43m=\u001b[39;49m\u001b[38;5;241;43m4640\u001b[39;49m\u001b[43m)\u001b[49m\n",
      "File \u001b[1;32md:\\Kevin\\Projects\\Venomio-Probabilistic-Football-Model\\core.py:2131\u001b[0m, in \u001b[0;36mMonteCarloSim.__init__\u001b[1;34m(self, match_id, home_initial_goals, away_initial_goals, match_initial_time, home_subs_avail, away_subs_avail)\u001b[0m\n\u001b[0;32m   2129\u001b[0m \u001b[38;5;28mself\u001b[39m\u001b[38;5;241m.\u001b[39mregulation_stats \u001b[38;5;241m=\u001b[39m \u001b[38;5;28mself\u001b[39m\u001b[38;5;241m.\u001b[39m_get_regulation_stats()\n\u001b[0;32m   2130\u001b[0m \u001b[38;5;28mprint\u001b[39m(\u001b[38;5;28mself\u001b[39m\u001b[38;5;241m.\u001b[39mregulation_stats)\n\u001b[1;32m-> 2131\u001b[0m \u001b[38;5;28;43mself\u001b[39;49m\u001b[38;5;241;43m.\u001b[39;49m\u001b[43mprecompute_card_sim_data\u001b[49m\u001b[43m(\u001b[49m\u001b[43m)\u001b[49m \u001b[38;5;66;03m# This should be checked later\u001b[39;00m\n\u001b[0;32m   2133\u001b[0m \u001b[38;5;28mself\u001b[39m\u001b[38;5;241m.\u001b[39mhome_starters, \u001b[38;5;28mself\u001b[39m\u001b[38;5;241m.\u001b[39mhome_subs \u001b[38;5;241m=\u001b[39m \u001b[38;5;28mself\u001b[39m\u001b[38;5;241m.\u001b[39m_divide_players(\u001b[38;5;124m\"\u001b[39m\u001b[38;5;124mhome\u001b[39m\u001b[38;5;124m\"\u001b[39m)\n\u001b[0;32m   2134\u001b[0m \u001b[38;5;28mself\u001b[39m\u001b[38;5;241m.\u001b[39maway_starters, \u001b[38;5;28mself\u001b[39m\u001b[38;5;241m.\u001b[39maway_subs \u001b[38;5;241m=\u001b[39m \u001b[38;5;28mself\u001b[39m\u001b[38;5;241m.\u001b[39m_divide_players(\u001b[38;5;124m\"\u001b[39m\u001b[38;5;124maway\u001b[39m\u001b[38;5;124m\"\u001b[39m)\n",
      "File \u001b[1;32md:\\Kevin\\Projects\\Venomio-Probabilistic-Football-Model\\core.py:2896\u001b[0m, in \u001b[0;36mMonteCarloSim.precompute_card_sim_data\u001b[1;34m(self)\u001b[0m\n\u001b[0;32m   2892\u001b[0m \u001b[38;5;28mself\u001b[39m\u001b[38;5;241m.\u001b[39mteam_factor   \u001b[38;5;241m=\u001b[39m {\u001b[38;5;28;01mTrue\u001b[39;00m: \u001b[38;5;241m0.95\u001b[39m, \u001b[38;5;28;01mFalse\u001b[39;00m: \u001b[38;5;241m1.05\u001b[39m}\n\u001b[0;32m   2893\u001b[0m \u001b[38;5;28mself\u001b[39m\u001b[38;5;241m.\u001b[39mstatus_factor \u001b[38;5;241m=\u001b[39m {\u001b[38;5;124m'\u001b[39m\u001b[38;5;124mLeading\u001b[39m\u001b[38;5;124m'\u001b[39m: \u001b[38;5;241m0.88\u001b[39m, \u001b[38;5;124m'\u001b[39m\u001b[38;5;124mLevel\u001b[39m\u001b[38;5;124m'\u001b[39m: \u001b[38;5;241m1.0\u001b[39m, \u001b[38;5;124m'\u001b[39m\u001b[38;5;124mTrailing\u001b[39m\u001b[38;5;124m'\u001b[39m: \u001b[38;5;241m1.11\u001b[39m,\n\u001b[0;32m   2894\u001b[0m                       \u001b[38;5;241m1\u001b[39m: \u001b[38;5;241m0.88\u001b[39m, \u001b[38;5;241m0\u001b[39m: \u001b[38;5;241m1.0\u001b[39m, \u001b[38;5;241m-\u001b[39m\u001b[38;5;241m1\u001b[39m: \u001b[38;5;241m1.11\u001b[39m}      \u001b[38;5;66;03m# handles numeric status too\u001b[39;00m\n\u001b[1;32m-> 2896\u001b[0m rf                 \u001b[38;5;241m=\u001b[39m \u001b[38;5;28mmax\u001b[39m(\u001b[38;5;241m1\u001b[39m, \u001b[38;5;28;43mself\u001b[39;49m\u001b[38;5;241;43m.\u001b[39;49m\u001b[43mref_stats\u001b[49m[\u001b[38;5;124m'\u001b[39m\u001b[38;5;124mmatches_played\u001b[39m\u001b[38;5;124m'\u001b[39m])\n\u001b[0;32m   2897\u001b[0m \u001b[38;5;28mself\u001b[39m\u001b[38;5;241m.\u001b[39mref_fouls_pm  \u001b[38;5;241m=\u001b[39m \u001b[38;5;28mself\u001b[39m\u001b[38;5;241m.\u001b[39mref_stats[\u001b[38;5;124m'\u001b[39m\u001b[38;5;124mfouls\u001b[39m\u001b[38;5;124m'\u001b[39m]        \u001b[38;5;241m/\u001b[39m rf\n\u001b[0;32m   2898\u001b[0m \u001b[38;5;28mself\u001b[39m\u001b[38;5;241m.\u001b[39mref_ycs_pm    \u001b[38;5;241m=\u001b[39m \u001b[38;5;28mself\u001b[39m\u001b[38;5;241m.\u001b[39mref_stats[\u001b[38;5;124m'\u001b[39m\u001b[38;5;124myellow_cards\u001b[39m\u001b[38;5;124m'\u001b[39m] \u001b[38;5;241m/\u001b[39m rf\n",
      "\u001b[1;31mAttributeError\u001b[0m: 'MonteCarloSim' object has no attribute 'ref_stats'"
     ]
    }
   ],
   "source": [
    "core.MonteCarloSim(match_id=4640)"
   ]
  }
 ],
 "metadata": {
  "kernelspec": {
   "display_name": "Python 3",
   "language": "python",
   "name": "python3"
  },
  "language_info": {
   "codemirror_mode": {
    "name": "ipython",
    "version": 3
   },
   "file_extension": ".py",
   "mimetype": "text/x-python",
   "name": "python",
   "nbconvert_exporter": "python",
   "pygments_lexer": "ipython3",
   "version": "3.10.9"
  }
 },
 "nbformat": 4,
 "nbformat_minor": 5
}
