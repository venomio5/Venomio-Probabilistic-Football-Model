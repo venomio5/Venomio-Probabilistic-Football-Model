{
 "cells": [
  {
   "cell_type": "code",
   "execution_count": 1,
   "id": "4056d70c",
   "metadata": {},
   "outputs": [],
   "source": [
    "import core\n",
    "import pandas as pd\n",
    "from datetime import datetime\n",
    "import ast"
   ]
  },
  {
   "cell_type": "code",
   "execution_count": 2,
   "id": "fb9207a6",
   "metadata": {},
   "outputs": [],
   "source": [
    "current_date = \"2025-07-23\"\n",
    "datetime_obj = pd.to_datetime(current_date)"
   ]
  },
  {
   "cell_type": "code",
   "execution_count": 3,
   "id": "563cd70f",
   "metadata": {},
   "outputs": [
    {
     "name": "stdout",
     "output_type": "stream",
     "text": [
      "Simulating Santos vs Internacional\n"
     ]
    },
    {
     "name": "stderr",
     "output_type": "stream",
     "text": [
      "Simulations (1 worker): 100%|██████████| 10000/10000 [00:40<00:00, 246.20it/s]\n"
     ]
    },
    {
     "data": {
      "text/plain": [
       "<core.MonteCarloSim at 0x1ad9c04b1f0>"
      ]
     },
     "execution_count": 3,
     "metadata": {},
     "output_type": "execute_result"
    }
   ],
   "source": [
    "core.MonteCarloSim(match_id=4643)"
   ]
  }
 ],
 "metadata": {
  "kernelspec": {
   "display_name": "Python 3",
   "language": "python",
   "name": "python3"
  },
  "language_info": {
   "codemirror_mode": {
    "name": "ipython",
    "version": 3
   },
   "file_extension": ".py",
   "mimetype": "text/x-python",
   "name": "python",
   "nbconvert_exporter": "python",
   "pygments_lexer": "ipython3",
   "version": "3.10.9"
  }
 },
 "nbformat": 4,
 "nbformat_minor": 5
}
